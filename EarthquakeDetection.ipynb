{
  "nbformat": 4,
  "nbformat_minor": 0,
  "metadata": {
    "colab": {
      "name": "EarthquakeDetection.ipynb",
      "provenance": [],
      "mount_file_id": "1KPtvzg3BaEmaqI8h8oPzQ6Jzf3pucFjD",
      "authorship_tag": "ABX9TyM+eQwjAZ0YnleWF7tiatB7",
      "include_colab_link": true
    },
    "kernelspec": {
      "name": "python3",
      "display_name": "Python 3"
    },
    "language_info": {
      "name": "python"
    },
    "accelerator": "GPU",
    "widgets": {
      "application/vnd.jupyter.widget-state+json": {
        "b9661be9e17e4464ba023aaad4dae50a": {
          "model_module": "@jupyter-widgets/controls",
          "model_name": "HBoxModel",
          "model_module_version": "1.5.0",
          "state": {
            "_view_name": "HBoxView",
            "_dom_classes": [],
            "_model_name": "HBoxModel",
            "_view_module": "@jupyter-widgets/controls",
            "_model_module_version": "1.5.0",
            "_view_count": null,
            "_view_module_version": "1.5.0",
            "box_style": "",
            "layout": "IPY_MODEL_397b909301b44bd9bca58906fce4b10b",
            "_model_module": "@jupyter-widgets/controls",
            "children": [
              "IPY_MODEL_84c4561fb7a9423e83fb24413d49a7fd",
              "IPY_MODEL_c03ecc0b84104b38b776b9ee2aae9776",
              "IPY_MODEL_726a28ebdb29422c8a6db8de8a5aaa83"
            ]
          }
        },
        "397b909301b44bd9bca58906fce4b10b": {
          "model_module": "@jupyter-widgets/base",
          "model_name": "LayoutModel",
          "model_module_version": "1.2.0",
          "state": {
            "_view_name": "LayoutView",
            "grid_template_rows": null,
            "right": null,
            "justify_content": null,
            "_view_module": "@jupyter-widgets/base",
            "overflow": null,
            "_model_module_version": "1.2.0",
            "_view_count": null,
            "flex_flow": null,
            "width": null,
            "min_width": null,
            "border": null,
            "align_items": null,
            "bottom": null,
            "_model_module": "@jupyter-widgets/base",
            "top": null,
            "grid_column": null,
            "overflow_y": null,
            "overflow_x": null,
            "grid_auto_flow": null,
            "grid_area": null,
            "grid_template_columns": null,
            "flex": null,
            "_model_name": "LayoutModel",
            "justify_items": null,
            "grid_row": null,
            "max_height": null,
            "align_content": null,
            "visibility": null,
            "align_self": null,
            "height": null,
            "min_height": null,
            "padding": null,
            "grid_auto_rows": null,
            "grid_gap": null,
            "max_width": null,
            "order": null,
            "_view_module_version": "1.2.0",
            "grid_template_areas": null,
            "object_position": null,
            "object_fit": null,
            "grid_auto_columns": null,
            "margin": null,
            "display": null,
            "left": null
          }
        },
        "84c4561fb7a9423e83fb24413d49a7fd": {
          "model_module": "@jupyter-widgets/controls",
          "model_name": "HTMLModel",
          "model_module_version": "1.5.0",
          "state": {
            "_view_name": "HTMLView",
            "style": "IPY_MODEL_0a2121a0705f4515a420bc65425322d9",
            "_dom_classes": [],
            "description": "",
            "_model_name": "HTMLModel",
            "placeholder": "​",
            "_view_module": "@jupyter-widgets/controls",
            "_model_module_version": "1.5.0",
            "value": "100%",
            "_view_count": null,
            "_view_module_version": "1.5.0",
            "description_tooltip": null,
            "_model_module": "@jupyter-widgets/controls",
            "layout": "IPY_MODEL_ed8c27fe00a047fb949f84c2e5775403"
          }
        },
        "c03ecc0b84104b38b776b9ee2aae9776": {
          "model_module": "@jupyter-widgets/controls",
          "model_name": "FloatProgressModel",
          "model_module_version": "1.5.0",
          "state": {
            "_view_name": "ProgressView",
            "style": "IPY_MODEL_fe4c3a88065b437793febeb0d3cfe4e2",
            "_dom_classes": [],
            "description": "",
            "_model_name": "FloatProgressModel",
            "bar_style": "success",
            "max": 4194,
            "_view_module": "@jupyter-widgets/controls",
            "_model_module_version": "1.5.0",
            "value": 4194,
            "_view_count": null,
            "_view_module_version": "1.5.0",
            "orientation": "horizontal",
            "min": 0,
            "description_tooltip": null,
            "_model_module": "@jupyter-widgets/controls",
            "layout": "IPY_MODEL_fbc9d344b2e6481ca138b9ea33151ea8"
          }
        },
        "726a28ebdb29422c8a6db8de8a5aaa83": {
          "model_module": "@jupyter-widgets/controls",
          "model_name": "HTMLModel",
          "model_module_version": "1.5.0",
          "state": {
            "_view_name": "HTMLView",
            "style": "IPY_MODEL_244ffde519df49948be7297ebdbd9167",
            "_dom_classes": [],
            "description": "",
            "_model_name": "HTMLModel",
            "placeholder": "​",
            "_view_module": "@jupyter-widgets/controls",
            "_model_module_version": "1.5.0",
            "value": " 4194/4194 [27:01&lt;00:00,  2.66it/s]",
            "_view_count": null,
            "_view_module_version": "1.5.0",
            "description_tooltip": null,
            "_model_module": "@jupyter-widgets/controls",
            "layout": "IPY_MODEL_a3a163312d0c48629e6d616ecef10d47"
          }
        },
        "0a2121a0705f4515a420bc65425322d9": {
          "model_module": "@jupyter-widgets/controls",
          "model_name": "DescriptionStyleModel",
          "model_module_version": "1.5.0",
          "state": {
            "_view_name": "StyleView",
            "_model_name": "DescriptionStyleModel",
            "description_width": "",
            "_view_module": "@jupyter-widgets/base",
            "_model_module_version": "1.5.0",
            "_view_count": null,
            "_view_module_version": "1.2.0",
            "_model_module": "@jupyter-widgets/controls"
          }
        },
        "ed8c27fe00a047fb949f84c2e5775403": {
          "model_module": "@jupyter-widgets/base",
          "model_name": "LayoutModel",
          "model_module_version": "1.2.0",
          "state": {
            "_view_name": "LayoutView",
            "grid_template_rows": null,
            "right": null,
            "justify_content": null,
            "_view_module": "@jupyter-widgets/base",
            "overflow": null,
            "_model_module_version": "1.2.0",
            "_view_count": null,
            "flex_flow": null,
            "width": null,
            "min_width": null,
            "border": null,
            "align_items": null,
            "bottom": null,
            "_model_module": "@jupyter-widgets/base",
            "top": null,
            "grid_column": null,
            "overflow_y": null,
            "overflow_x": null,
            "grid_auto_flow": null,
            "grid_area": null,
            "grid_template_columns": null,
            "flex": null,
            "_model_name": "LayoutModel",
            "justify_items": null,
            "grid_row": null,
            "max_height": null,
            "align_content": null,
            "visibility": null,
            "align_self": null,
            "height": null,
            "min_height": null,
            "padding": null,
            "grid_auto_rows": null,
            "grid_gap": null,
            "max_width": null,
            "order": null,
            "_view_module_version": "1.2.0",
            "grid_template_areas": null,
            "object_position": null,
            "object_fit": null,
            "grid_auto_columns": null,
            "margin": null,
            "display": null,
            "left": null
          }
        },
        "fe4c3a88065b437793febeb0d3cfe4e2": {
          "model_module": "@jupyter-widgets/controls",
          "model_name": "ProgressStyleModel",
          "model_module_version": "1.5.0",
          "state": {
            "_view_name": "StyleView",
            "_model_name": "ProgressStyleModel",
            "description_width": "",
            "_view_module": "@jupyter-widgets/base",
            "_model_module_version": "1.5.0",
            "_view_count": null,
            "_view_module_version": "1.2.0",
            "bar_color": null,
            "_model_module": "@jupyter-widgets/controls"
          }
        },
        "fbc9d344b2e6481ca138b9ea33151ea8": {
          "model_module": "@jupyter-widgets/base",
          "model_name": "LayoutModel",
          "model_module_version": "1.2.0",
          "state": {
            "_view_name": "LayoutView",
            "grid_template_rows": null,
            "right": null,
            "justify_content": null,
            "_view_module": "@jupyter-widgets/base",
            "overflow": null,
            "_model_module_version": "1.2.0",
            "_view_count": null,
            "flex_flow": null,
            "width": null,
            "min_width": null,
            "border": null,
            "align_items": null,
            "bottom": null,
            "_model_module": "@jupyter-widgets/base",
            "top": null,
            "grid_column": null,
            "overflow_y": null,
            "overflow_x": null,
            "grid_auto_flow": null,
            "grid_area": null,
            "grid_template_columns": null,
            "flex": null,
            "_model_name": "LayoutModel",
            "justify_items": null,
            "grid_row": null,
            "max_height": null,
            "align_content": null,
            "visibility": null,
            "align_self": null,
            "height": null,
            "min_height": null,
            "padding": null,
            "grid_auto_rows": null,
            "grid_gap": null,
            "max_width": null,
            "order": null,
            "_view_module_version": "1.2.0",
            "grid_template_areas": null,
            "object_position": null,
            "object_fit": null,
            "grid_auto_columns": null,
            "margin": null,
            "display": null,
            "left": null
          }
        },
        "244ffde519df49948be7297ebdbd9167": {
          "model_module": "@jupyter-widgets/controls",
          "model_name": "DescriptionStyleModel",
          "model_module_version": "1.5.0",
          "state": {
            "_view_name": "StyleView",
            "_model_name": "DescriptionStyleModel",
            "description_width": "",
            "_view_module": "@jupyter-widgets/base",
            "_model_module_version": "1.5.0",
            "_view_count": null,
            "_view_module_version": "1.2.0",
            "_model_module": "@jupyter-widgets/controls"
          }
        },
        "a3a163312d0c48629e6d616ecef10d47": {
          "model_module": "@jupyter-widgets/base",
          "model_name": "LayoutModel",
          "model_module_version": "1.2.0",
          "state": {
            "_view_name": "LayoutView",
            "grid_template_rows": null,
            "right": null,
            "justify_content": null,
            "_view_module": "@jupyter-widgets/base",
            "overflow": null,
            "_model_module_version": "1.2.0",
            "_view_count": null,
            "flex_flow": null,
            "width": null,
            "min_width": null,
            "border": null,
            "align_items": null,
            "bottom": null,
            "_model_module": "@jupyter-widgets/base",
            "top": null,
            "grid_column": null,
            "overflow_y": null,
            "overflow_x": null,
            "grid_auto_flow": null,
            "grid_area": null,
            "grid_template_columns": null,
            "flex": null,
            "_model_name": "LayoutModel",
            "justify_items": null,
            "grid_row": null,
            "max_height": null,
            "align_content": null,
            "visibility": null,
            "align_self": null,
            "height": null,
            "min_height": null,
            "padding": null,
            "grid_auto_rows": null,
            "grid_gap": null,
            "max_width": null,
            "order": null,
            "_view_module_version": "1.2.0",
            "grid_template_areas": null,
            "object_position": null,
            "object_fit": null,
            "grid_auto_columns": null,
            "margin": null,
            "display": null,
            "left": null
          }
        },
        "73644317b6774eb6aec8ef0f7b1c1802": {
          "model_module": "@jupyter-widgets/controls",
          "model_name": "HBoxModel",
          "model_module_version": "1.5.0",
          "state": {
            "_view_name": "HBoxView",
            "_dom_classes": [],
            "_model_name": "HBoxModel",
            "_view_module": "@jupyter-widgets/controls",
            "_model_module_version": "1.5.0",
            "_view_count": null,
            "_view_module_version": "1.5.0",
            "box_style": "",
            "layout": "IPY_MODEL_de1177f2b9cb41e6b0af38d5b909e978",
            "_model_module": "@jupyter-widgets/controls",
            "children": [
              "IPY_MODEL_8bfb7c9e755d40cea06152dba1372e2a",
              "IPY_MODEL_3ba139f1dc344c6386df557697ca2a30",
              "IPY_MODEL_c7b86d041e9148a886312c3f473ad8c6"
            ]
          }
        },
        "de1177f2b9cb41e6b0af38d5b909e978": {
          "model_module": "@jupyter-widgets/base",
          "model_name": "LayoutModel",
          "model_module_version": "1.2.0",
          "state": {
            "_view_name": "LayoutView",
            "grid_template_rows": null,
            "right": null,
            "justify_content": null,
            "_view_module": "@jupyter-widgets/base",
            "overflow": null,
            "_model_module_version": "1.2.0",
            "_view_count": null,
            "flex_flow": null,
            "width": null,
            "min_width": null,
            "border": null,
            "align_items": null,
            "bottom": null,
            "_model_module": "@jupyter-widgets/base",
            "top": null,
            "grid_column": null,
            "overflow_y": null,
            "overflow_x": null,
            "grid_auto_flow": null,
            "grid_area": null,
            "grid_template_columns": null,
            "flex": null,
            "_model_name": "LayoutModel",
            "justify_items": null,
            "grid_row": null,
            "max_height": null,
            "align_content": null,
            "visibility": null,
            "align_self": null,
            "height": null,
            "min_height": null,
            "padding": null,
            "grid_auto_rows": null,
            "grid_gap": null,
            "max_width": null,
            "order": null,
            "_view_module_version": "1.2.0",
            "grid_template_areas": null,
            "object_position": null,
            "object_fit": null,
            "grid_auto_columns": null,
            "margin": null,
            "display": null,
            "left": null
          }
        },
        "8bfb7c9e755d40cea06152dba1372e2a": {
          "model_module": "@jupyter-widgets/controls",
          "model_name": "HTMLModel",
          "model_module_version": "1.5.0",
          "state": {
            "_view_name": "HTMLView",
            "style": "IPY_MODEL_01cd8b2c05f9401189559b3da075b75b",
            "_dom_classes": [],
            "description": "",
            "_model_name": "HTMLModel",
            "placeholder": "​",
            "_view_module": "@jupyter-widgets/controls",
            "_model_module_version": "1.5.0",
            "value": "100%",
            "_view_count": null,
            "_view_module_version": "1.5.0",
            "description_tooltip": null,
            "_model_module": "@jupyter-widgets/controls",
            "layout": "IPY_MODEL_06a132be4a484a5093fccf5ae180865e"
          }
        },
        "3ba139f1dc344c6386df557697ca2a30": {
          "model_module": "@jupyter-widgets/controls",
          "model_name": "FloatProgressModel",
          "model_module_version": "1.5.0",
          "state": {
            "_view_name": "ProgressView",
            "style": "IPY_MODEL_9daf0325dd2747bfb49392a91d305c68",
            "_dom_classes": [],
            "description": "",
            "_model_name": "FloatProgressModel",
            "bar_style": "success",
            "max": 2624,
            "_view_module": "@jupyter-widgets/controls",
            "_model_module_version": "1.5.0",
            "value": 2624,
            "_view_count": null,
            "_view_module_version": "1.5.0",
            "orientation": "horizontal",
            "min": 0,
            "description_tooltip": null,
            "_model_module": "@jupyter-widgets/controls",
            "layout": "IPY_MODEL_fe42e285e0404ba8aa0b545ba6567c74"
          }
        },
        "c7b86d041e9148a886312c3f473ad8c6": {
          "model_module": "@jupyter-widgets/controls",
          "model_name": "HTMLModel",
          "model_module_version": "1.5.0",
          "state": {
            "_view_name": "HTMLView",
            "style": "IPY_MODEL_7896921e66c24041bcf219b32202ac45",
            "_dom_classes": [],
            "description": "",
            "_model_name": "HTMLModel",
            "placeholder": "​",
            "_view_module": "@jupyter-widgets/controls",
            "_model_module_version": "1.5.0",
            "value": " 2624/2624 [26:17&lt;00:00,  1.60it/s]",
            "_view_count": null,
            "_view_module_version": "1.5.0",
            "description_tooltip": null,
            "_model_module": "@jupyter-widgets/controls",
            "layout": "IPY_MODEL_c96aab917dab411089b3df971b214188"
          }
        },
        "01cd8b2c05f9401189559b3da075b75b": {
          "model_module": "@jupyter-widgets/controls",
          "model_name": "DescriptionStyleModel",
          "model_module_version": "1.5.0",
          "state": {
            "_view_name": "StyleView",
            "_model_name": "DescriptionStyleModel",
            "description_width": "",
            "_view_module": "@jupyter-widgets/base",
            "_model_module_version": "1.5.0",
            "_view_count": null,
            "_view_module_version": "1.2.0",
            "_model_module": "@jupyter-widgets/controls"
          }
        },
        "06a132be4a484a5093fccf5ae180865e": {
          "model_module": "@jupyter-widgets/base",
          "model_name": "LayoutModel",
          "model_module_version": "1.2.0",
          "state": {
            "_view_name": "LayoutView",
            "grid_template_rows": null,
            "right": null,
            "justify_content": null,
            "_view_module": "@jupyter-widgets/base",
            "overflow": null,
            "_model_module_version": "1.2.0",
            "_view_count": null,
            "flex_flow": null,
            "width": null,
            "min_width": null,
            "border": null,
            "align_items": null,
            "bottom": null,
            "_model_module": "@jupyter-widgets/base",
            "top": null,
            "grid_column": null,
            "overflow_y": null,
            "overflow_x": null,
            "grid_auto_flow": null,
            "grid_area": null,
            "grid_template_columns": null,
            "flex": null,
            "_model_name": "LayoutModel",
            "justify_items": null,
            "grid_row": null,
            "max_height": null,
            "align_content": null,
            "visibility": null,
            "align_self": null,
            "height": null,
            "min_height": null,
            "padding": null,
            "grid_auto_rows": null,
            "grid_gap": null,
            "max_width": null,
            "order": null,
            "_view_module_version": "1.2.0",
            "grid_template_areas": null,
            "object_position": null,
            "object_fit": null,
            "grid_auto_columns": null,
            "margin": null,
            "display": null,
            "left": null
          }
        },
        "9daf0325dd2747bfb49392a91d305c68": {
          "model_module": "@jupyter-widgets/controls",
          "model_name": "ProgressStyleModel",
          "model_module_version": "1.5.0",
          "state": {
            "_view_name": "StyleView",
            "_model_name": "ProgressStyleModel",
            "description_width": "",
            "_view_module": "@jupyter-widgets/base",
            "_model_module_version": "1.5.0",
            "_view_count": null,
            "_view_module_version": "1.2.0",
            "bar_color": null,
            "_model_module": "@jupyter-widgets/controls"
          }
        },
        "fe42e285e0404ba8aa0b545ba6567c74": {
          "model_module": "@jupyter-widgets/base",
          "model_name": "LayoutModel",
          "model_module_version": "1.2.0",
          "state": {
            "_view_name": "LayoutView",
            "grid_template_rows": null,
            "right": null,
            "justify_content": null,
            "_view_module": "@jupyter-widgets/base",
            "overflow": null,
            "_model_module_version": "1.2.0",
            "_view_count": null,
            "flex_flow": null,
            "width": null,
            "min_width": null,
            "border": null,
            "align_items": null,
            "bottom": null,
            "_model_module": "@jupyter-widgets/base",
            "top": null,
            "grid_column": null,
            "overflow_y": null,
            "overflow_x": null,
            "grid_auto_flow": null,
            "grid_area": null,
            "grid_template_columns": null,
            "flex": null,
            "_model_name": "LayoutModel",
            "justify_items": null,
            "grid_row": null,
            "max_height": null,
            "align_content": null,
            "visibility": null,
            "align_self": null,
            "height": null,
            "min_height": null,
            "padding": null,
            "grid_auto_rows": null,
            "grid_gap": null,
            "max_width": null,
            "order": null,
            "_view_module_version": "1.2.0",
            "grid_template_areas": null,
            "object_position": null,
            "object_fit": null,
            "grid_auto_columns": null,
            "margin": null,
            "display": null,
            "left": null
          }
        },
        "7896921e66c24041bcf219b32202ac45": {
          "model_module": "@jupyter-widgets/controls",
          "model_name": "DescriptionStyleModel",
          "model_module_version": "1.5.0",
          "state": {
            "_view_name": "StyleView",
            "_model_name": "DescriptionStyleModel",
            "description_width": "",
            "_view_module": "@jupyter-widgets/base",
            "_model_module_version": "1.5.0",
            "_view_count": null,
            "_view_module_version": "1.2.0",
            "_model_module": "@jupyter-widgets/controls"
          }
        },
        "c96aab917dab411089b3df971b214188": {
          "model_module": "@jupyter-widgets/base",
          "model_name": "LayoutModel",
          "model_module_version": "1.2.0",
          "state": {
            "_view_name": "LayoutView",
            "grid_template_rows": null,
            "right": null,
            "justify_content": null,
            "_view_module": "@jupyter-widgets/base",
            "overflow": null,
            "_model_module_version": "1.2.0",
            "_view_count": null,
            "flex_flow": null,
            "width": null,
            "min_width": null,
            "border": null,
            "align_items": null,
            "bottom": null,
            "_model_module": "@jupyter-widgets/base",
            "top": null,
            "grid_column": null,
            "overflow_y": null,
            "overflow_x": null,
            "grid_auto_flow": null,
            "grid_area": null,
            "grid_template_columns": null,
            "flex": null,
            "_model_name": "LayoutModel",
            "justify_items": null,
            "grid_row": null,
            "max_height": null,
            "align_content": null,
            "visibility": null,
            "align_self": null,
            "height": null,
            "min_height": null,
            "padding": null,
            "grid_auto_rows": null,
            "grid_gap": null,
            "max_width": null,
            "order": null,
            "_view_module_version": "1.2.0",
            "grid_template_areas": null,
            "object_position": null,
            "object_fit": null,
            "grid_auto_columns": null,
            "margin": null,
            "display": null,
            "left": null
          }
        }
      }
    }
  },
  "cells": [
    {
      "cell_type": "markdown",
      "metadata": {
        "id": "view-in-github",
        "colab_type": "text"
      },
      "source": [
        "<a href=\"https://colab.research.google.com/github/Ashutosh-Nayak-1/EarthquakePrediction/blob/main/EarthquakeDetection.ipynb\" target=\"_parent\"><img src=\"https://colab.research.google.com/assets/colab-badge.svg\" alt=\"Open In Colab\"/></a>"
      ]
    },
    {
      "cell_type": "code",
      "source": [
        "!pip install catboost"
      ],
      "metadata": {
        "colab": {
          "base_uri": "https://localhost:8080/"
        },
        "id": "ZXbfI-JfkzjC",
        "outputId": "2d917997-6d2b-4a53-cc81-f793b0daa2ed"
      },
      "execution_count": null,
      "outputs": [
        {
          "output_type": "stream",
          "name": "stdout",
          "text": [
            "Collecting catboost\n",
            "  Downloading catboost-1.0.3-cp37-none-manylinux1_x86_64.whl (76.3 MB)\n",
            "\u001b[K     |████████████████████████████████| 76.3 MB 1.3 MB/s \n",
            "\u001b[?25hRequirement already satisfied: plotly in /usr/local/lib/python3.7/dist-packages (from catboost) (4.4.1)\n",
            "Requirement already satisfied: matplotlib in /usr/local/lib/python3.7/dist-packages (from catboost) (3.2.2)\n",
            "Requirement already satisfied: six in /usr/local/lib/python3.7/dist-packages (from catboost) (1.15.0)\n",
            "Requirement already satisfied: numpy>=1.16.0 in /usr/local/lib/python3.7/dist-packages (from catboost) (1.19.5)\n",
            "Requirement already satisfied: scipy in /usr/local/lib/python3.7/dist-packages (from catboost) (1.4.1)\n",
            "Requirement already satisfied: graphviz in /usr/local/lib/python3.7/dist-packages (from catboost) (0.10.1)\n",
            "Requirement already satisfied: pandas>=0.24.0 in /usr/local/lib/python3.7/dist-packages (from catboost) (1.1.5)\n",
            "Requirement already satisfied: python-dateutil>=2.7.3 in /usr/local/lib/python3.7/dist-packages (from pandas>=0.24.0->catboost) (2.8.2)\n",
            "Requirement already satisfied: pytz>=2017.2 in /usr/local/lib/python3.7/dist-packages (from pandas>=0.24.0->catboost) (2018.9)\n",
            "Requirement already satisfied: pyparsing!=2.0.4,!=2.1.2,!=2.1.6,>=2.0.1 in /usr/local/lib/python3.7/dist-packages (from matplotlib->catboost) (3.0.6)\n",
            "Requirement already satisfied: cycler>=0.10 in /usr/local/lib/python3.7/dist-packages (from matplotlib->catboost) (0.11.0)\n",
            "Requirement already satisfied: kiwisolver>=1.0.1 in /usr/local/lib/python3.7/dist-packages (from matplotlib->catboost) (1.3.2)\n",
            "Requirement already satisfied: retrying>=1.3.3 in /usr/local/lib/python3.7/dist-packages (from plotly->catboost) (1.3.3)\n",
            "Installing collected packages: catboost\n",
            "Successfully installed catboost-1.0.3\n"
          ]
        }
      ]
    },
    {
      "cell_type": "code",
      "source": [
        "import numpy as np\n",
        "import pandas as pd\n",
        "import os\n",
        "\n",
        "import matplotlib.pyplot as plt\n",
        "%matplotlib inline\n",
        "from tqdm import tqdm_notebook\n",
        "from sklearn.preprocessing import StandardScaler\n",
        "from sklearn.svm import NuSVR, SVR\n",
        "from sklearn.metrics import mean_absolute_error\n",
        "pd.options.display.precision = 15\n",
        "\n",
        "import lightgbm as lgb\n",
        "import xgboost as xgb\n",
        "import time\n",
        "import datetime\n",
        "from catboost import CatBoostRegressor\n",
        "from sklearn.preprocessing import LabelEncoder\n",
        "from sklearn.model_selection import StratifiedKFold, KFold, RepeatedKFold\n",
        "from sklearn.metrics import mean_absolute_error\n",
        "from sklearn.linear_model import LinearRegression\n",
        "import gc\n",
        "import seaborn as sns\n",
        "import warnings\n",
        "warnings.filterwarnings(\"ignore\")\n",
        "\n",
        "from scipy.signal import hilbert\n",
        "from scipy.signal import hann\n",
        "from scipy.signal import convolve\n",
        "from scipy import stats\n",
        "from sklearn.kernel_ridge import KernelRidge"
      ],
      "metadata": {
        "id": "cEtnC3oKvRfg"
      },
      "execution_count": null,
      "outputs": []
    },
    {
      "cell_type": "code",
      "source": [
        "def calc_change_rate(x):\n",
        "    change = (np.diff(x) / x[:-1]).values\n",
        "    change = change[np.nonzero(change)[0]]\n",
        "    change = change[~np.isnan(change)]\n",
        "    change = change[change != -np.inf]\n",
        "    change = change[change != np.inf]\n",
        "    return np.mean(change)\n",
        "\n",
        "def classic_sta_lta(x, length_sta, length_lta):\n",
        "    \n",
        "    sta = np.cumsum(x ** 2)\n",
        "\n",
        "    # Convert to float\n",
        "    sta = np.require(sta, dtype=np.float)\n",
        "\n",
        "    # Copy for LTA\n",
        "    lta = sta.copy()\n",
        "\n",
        "    # Compute the STA and the LTA\n",
        "    sta[length_sta:] = sta[length_sta:] - sta[:-length_sta]\n",
        "    sta /= length_sta\n",
        "    lta[length_lta:] = lta[length_lta:] - lta[:-length_lta]\n",
        "    lta /= length_lta\n",
        "\n",
        "    # Pad zeros\n",
        "    sta[:length_lta - 1] = 0\n",
        "\n",
        "    # Avoid division by zero by setting zero values to tiny float\n",
        "    dtiny = np.finfo(0.0).tiny\n",
        "    idx = lta < dtiny\n",
        "    lta[idx] = dtiny\n",
        "\n",
        "    return sta / lta\n",
        "\n",
        "def add_trend_feature(arr, abs_values=False):\n",
        "    idx = np.array(range(len(arr)))\n",
        "    if abs_values:\n",
        "        arr = np.abs(arr)\n",
        "    lr = LinearRegression()\n",
        "    lr.fit(idx.reshape(-1, 1), arr)\n",
        "    return lr.coef_[0]"
      ],
      "metadata": {
        "id": "JV2mb9ikrcr_"
      },
      "execution_count": null,
      "outputs": []
    },
    {
      "cell_type": "code",
      "source": [
        "%%time\n",
        "train = pd.read_csv('/content/drive/MyDrive/LANL-Earthquake-Prediction/train.csv', dtype={'acoustic_data': np.int16, 'time_to_failure': np.float32})"
      ],
      "metadata": {
        "id": "SewaIBUfN9_Z",
        "colab": {
          "base_uri": "https://localhost:8080/"
        },
        "outputId": "37443374-5232-4414-e946-64c89463adbc"
      },
      "execution_count": null,
      "outputs": [
        {
          "output_type": "stream",
          "name": "stdout",
          "text": [
            "CPU times: user 1min 57s, sys: 51.2 s, total: 2min 48s\n",
            "Wall time: 4min 30s\n"
          ]
        }
      ]
    },
    {
      "cell_type": "code",
      "source": [
        "train.shape"
      ],
      "metadata": {
        "id": "5Qrdj-GIPPoT",
        "colab": {
          "base_uri": "https://localhost:8080/"
        },
        "outputId": "04dbfef5-8252-44ba-a04d-de5344cf6925"
      },
      "execution_count": null,
      "outputs": [
        {
          "output_type": "execute_result",
          "data": {
            "text/plain": [
              "(629145480, 2)"
            ]
          },
          "metadata": {},
          "execution_count": 5
        }
      ]
    },
    {
      "cell_type": "code",
      "source": [
        "#To plot graph, taking every 100th point\n",
        "sample_acousticdata = train['acoustic_data'].values[::100]\n",
        "sample_time_to_failure = train['time_to_failure'].values[::100]\n",
        "fig, ax1 = plt.subplots(figsize=(16, 8))\n",
        "plt.title(\"Trends of acoustic_data and time_to_failure (1 in 100 points)\")\n",
        "plt.plot(sample_acousticdata, color='b')\n",
        "ax1.set_ylabel('acoustic_data', color='b')\n",
        "plt.legend(['acoustic_data'])\n",
        "ax2 = ax1.twinx()\n",
        "plt.plot(sample_time_to_failure, color='r')\n",
        "ax2.set_ylabel('time_to_failure', color='r')\n",
        "plt.legend(['time_to_failure'], loc=(0.875, 0.9))\n",
        "plt.grid(False)"
      ],
      "metadata": {
        "id": "sGZu9f5r8RB_",
        "colab": {
          "base_uri": "https://localhost:8080/",
          "height": 512
        },
        "outputId": "da3dc3fd-b1dd-4145-ead3-4956bec4f884"
      },
      "execution_count": null,
      "outputs": [
        {
          "output_type": "display_data",
          "data": {
            "image/png": "[encoded data removed]",
            "text/plain": [
              "<Figure size 1152x576 with 2 Axes>"
            ]
          },
          "metadata": {
            "needs_background": "light"
          }
        }
      ]
    },
    {
      "cell_type": "code",
      "source": [
        "# Code to find times of each of the 16 experiments, first and last elements of array are the first and last time points and remaining 16 elements denote the failure points\n",
        "failure_index = np.flatnonzero(train['time_to_failure'].diff()>1.0)\n",
        "failure_index = np.insert(failure_index,0,0.0)\n",
        "failure_index = np.append(failure_index,len(train))\n",
        "print(failure_index)\n",
        "# Can now exclude the data upto the first failure (second element) and after the penultimate failure (third from last element)"
      ],
      "metadata": {
        "id": "5vUZyWb42MhK",
        "colab": {
          "base_uri": "https://localhost:8080/"
        },
        "outputId": "e3c9d9c9-7c17-418c-b4e1-1e3e16eb14a1"
      },
      "execution_count": null,
      "outputs": [
        {
          "output_type": "stream",
          "name": "stdout",
          "text": [
            "[        0   5656574  50085878 104677356 138772453 187641820 218652630\n",
            " 245829585 307838917 338276287 375377848 419368880 461811623 495800225\n",
            " 528777115 585568144 621985673 629145480]\n"
          ]
        }
      ]
    },
    {
      "cell_type": "code",
      "source": [
        "type(train)"
      ],
      "metadata": {
        "id": "oIRiGJm63ffR",
        "colab": {
          "base_uri": "https://localhost:8080/"
        },
        "outputId": "cf8ff66c-4972-46be-e13f-e45369e32cfd"
      },
      "execution_count": null,
      "outputs": [
        {
          "output_type": "execute_result",
          "data": {
            "text/plain": [
              "pandas.core.frame.DataFrame"
            ]
          },
          "metadata": {},
          "execution_count": 8
        }
      ]
    },
    {
      "cell_type": "code",
      "source": [
        "train.head()"
      ],
      "metadata": {
        "id": "kyrPkMA55k6z"
      },
      "execution_count": null,
      "outputs": []
    },
    {
      "cell_type": "code",
      "source": [
        "# Code to drop incomplete earthquake samples, running this code crashes the runtime\n",
        "# train.drop(labels=range(5656574), axis=0)\n",
        "# train.drop(labels=range(585568144, 629145480), axis=0)"
      ],
      "metadata": {
        "id": "oC96wa2ChVv-"
      },
      "execution_count": null,
      "outputs": []
    },
    {
      "cell_type": "code",
      "source": [
        "rows = 150_000\n",
        "segments = int(np.floor(train.shape[0] / rows))\n",
        "\n",
        "X_tr = pd.DataFrame(index=range(segments), dtype=np.float64)\n",
        "\n",
        "y_tr = pd.DataFrame(index=range(segments), dtype=np.float64, columns=['time_to_failure'])\n",
        "\n",
        "for segment in tqdm_notebook(range(segments)):\n",
        "    seg = train.iloc[segment*rows:segment*rows+rows]\n",
        "    x = pd.Series(seg['acoustic_data'].values)\n",
        "    y = seg['time_to_failure'].values[-1]\n",
        "    \n",
        "    y_tr.loc[segment, 'time_to_failure'] = y\n",
        "    X_tr.loc[segment, 'mean'] = x.mean()\n",
        "    X_tr.loc[segment, 'std'] = x.std()\n",
        "    X_tr.loc[segment, 'max'] = x.max()\n",
        "    X_tr.loc[segment, 'min'] = x.min()\n",
        "    \n",
        "    X_tr.loc[segment, 'mean_change_abs'] = np.mean(np.diff(x))\n",
        "    X_tr.loc[segment, 'mean_change_rate'] = calc_change_rate(x)\n",
        "    X_tr.loc[segment, 'abs_max'] = np.abs(x).max()\n",
        "    X_tr.loc[segment, 'abs_min'] = np.abs(x).min()\n",
        "    \n",
        "    X_tr.loc[segment, 'std_first_50000'] = x[:50000].std()\n",
        "    X_tr.loc[segment, 'std_last_50000'] = x[-50000:].std()\n",
        "    X_tr.loc[segment, 'std_first_10000'] = x[:10000].std()\n",
        "    X_tr.loc[segment, 'std_last_10000'] = x[-10000:].std()\n",
        "    \n",
        "    X_tr.loc[segment, 'avg_first_50000'] = x[:50000].mean()\n",
        "    X_tr.loc[segment, 'avg_last_50000'] = x[-50000:].mean()\n",
        "    X_tr.loc[segment, 'avg_first_10000'] = x[:10000].mean()\n",
        "    X_tr.loc[segment, 'avg_last_10000'] = x[-10000:].mean()\n",
        "    \n",
        "    X_tr.loc[segment, 'min_first_50000'] = x[:50000].min()\n",
        "    X_tr.loc[segment, 'min_last_50000'] = x[-50000:].min()\n",
        "    X_tr.loc[segment, 'min_first_10000'] = x[:10000].min()\n",
        "    X_tr.loc[segment, 'min_last_10000'] = x[-10000:].min()\n",
        "    \n",
        "    X_tr.loc[segment, 'max_first_50000'] = x[:50000].max()\n",
        "    X_tr.loc[segment, 'max_last_50000'] = x[-50000:].max()\n",
        "    X_tr.loc[segment, 'max_first_10000'] = x[:10000].max()\n",
        "    X_tr.loc[segment, 'max_last_10000'] = x[-10000:].max()\n",
        "    \n",
        "    X_tr.loc[segment, 'max_to_min'] = x.max() / np.abs(x.min())\n",
        "    X_tr.loc[segment, 'max_to_min_diff'] = x.max() - np.abs(x.min())\n",
        "    X_tr.loc[segment, 'count_big'] = len(x[np.abs(x) > 500])\n",
        "    X_tr.loc[segment, 'sum'] = x.sum()\n",
        "    \n",
        "    X_tr.loc[segment, 'mean_change_rate_first_50000'] = calc_change_rate(x[:50000])\n",
        "    X_tr.loc[segment, 'mean_change_rate_last_50000'] = calc_change_rate(x[-50000:])\n",
        "    X_tr.loc[segment, 'mean_change_rate_first_10000'] = calc_change_rate(x[:10000])\n",
        "    X_tr.loc[segment, 'mean_change_rate_last_10000'] = calc_change_rate(x[-10000:])\n",
        "    \n",
        "    X_tr.loc[segment, 'q95'] = np.quantile(x, 0.95)\n",
        "    X_tr.loc[segment, 'q99'] = np.quantile(x, 0.99)\n",
        "    X_tr.loc[segment, 'q05'] = np.quantile(x, 0.05)\n",
        "    X_tr.loc[segment, 'q01'] = np.quantile(x, 0.01)\n",
        "    \n",
        "    X_tr.loc[segment, 'abs_q95'] = np.quantile(np.abs(x), 0.95)\n",
        "    X_tr.loc[segment, 'abs_q99'] = np.quantile(np.abs(x), 0.99)\n",
        "    X_tr.loc[segment, 'abs_q05'] = np.quantile(np.abs(x), 0.05)\n",
        "    X_tr.loc[segment, 'abs_q01'] = np.quantile(np.abs(x), 0.01)\n",
        "    \n",
        "    X_tr.loc[segment, 'trend'] = add_trend_feature(x)\n",
        "    X_tr.loc[segment, 'abs_trend'] = add_trend_feature(x, abs_values=True)\n",
        "    X_tr.loc[segment, 'abs_mean'] = np.abs(x).mean()\n",
        "    X_tr.loc[segment, 'abs_std'] = np.abs(x).std()\n",
        "    \n",
        "    X_tr.loc[segment, 'mad'] = x.mad()\n",
        "    X_tr.loc[segment, 'kurt'] = x.kurtosis()\n",
        "    X_tr.loc[segment, 'skew'] = x.skew()\n",
        "    X_tr.loc[segment, 'med'] = x.median()\n",
        "    \n",
        "    X_tr.loc[segment, 'Hilbert_mean'] = np.abs(hilbert(x)).mean()\n",
        "    X_tr.loc[segment, 'Hann_window_mean'] = (convolve(x, hann(150), mode='same') / sum(hann(150))).mean()\n",
        "    X_tr.loc[segment, 'classic_sta_lta1_mean'] = classic_sta_lta(x, 500, 10000).mean()\n",
        "    X_tr.loc[segment, 'classic_sta_lta2_mean'] = classic_sta_lta(x, 5000, 100000).mean()\n",
        "    X_tr.loc[segment, 'classic_sta_lta3_mean'] = classic_sta_lta(x, 3333, 6666).mean()\n",
        "    X_tr.loc[segment, 'classic_sta_lta4_mean'] = classic_sta_lta(x, 10000, 25000).mean()\n",
        "    X_tr.loc[segment, 'classic_sta_lta5_mean'] = classic_sta_lta(x, 50, 1000).mean()\n",
        "    X_tr.loc[segment, 'classic_sta_lta6_mean'] = classic_sta_lta(x, 100, 5000).mean()\n",
        "    X_tr.loc[segment, 'classic_sta_lta7_mean'] = classic_sta_lta(x, 333, 666).mean()\n",
        "    X_tr.loc[segment, 'classic_sta_lta8_mean'] = classic_sta_lta(x, 4000, 10000).mean()\n",
        "    X_tr.loc[segment, 'Moving_average_700_mean'] = x.rolling(window=700).mean().mean(skipna=True)\n",
        "    ewma = pd.Series.ewm\n",
        "    X_tr.loc[segment, 'exp_Moving_average_300_mean'] = (ewma(x, span=300).mean()).mean(skipna=True)\n",
        "    X_tr.loc[segment, 'exp_Moving_average_3000_mean'] = ewma(x, span=3000).mean().mean(skipna=True)\n",
        "    X_tr.loc[segment, 'exp_Moving_average_30000_mean'] = ewma(x, span=30000).mean().mean(skipna=True)\n",
        "    no_of_std = 3\n",
        "    X_tr.loc[segment, 'MA_700MA_std_mean'] = x.rolling(window=700).std().mean()\n",
        "    X_tr.loc[segment,'MA_700MA_BB_high_mean'] = (X_tr.loc[segment, 'Moving_average_700_mean'] + no_of_std * X_tr.loc[segment, 'MA_700MA_std_mean']).mean()\n",
        "    X_tr.loc[segment,'MA_700MA_BB_low_mean'] = (X_tr.loc[segment, 'Moving_average_700_mean'] - no_of_std * X_tr.loc[segment, 'MA_700MA_std_mean']).mean()\n",
        "    X_tr.loc[segment, 'MA_400MA_std_mean'] = x.rolling(window=400).std().mean()\n",
        "    X_tr.loc[segment,'MA_400MA_BB_high_mean'] = (X_tr.loc[segment, 'Moving_average_700_mean'] + no_of_std * X_tr.loc[segment, 'MA_400MA_std_mean']).mean()\n",
        "    X_tr.loc[segment,'MA_400MA_BB_low_mean'] = (X_tr.loc[segment, 'Moving_average_700_mean'] - no_of_std * X_tr.loc[segment, 'MA_400MA_std_mean']).mean()\n",
        "    X_tr.loc[segment, 'MA_1000MA_std_mean'] = x.rolling(window=1000).std().mean()\n",
        "    X_tr.drop('Moving_average_700_mean', axis=1, inplace=True)\n",
        "    \n",
        "    X_tr.loc[segment, 'iqr'] = np.subtract(*np.percentile(x, [75, 25]))\n",
        "    X_tr.loc[segment, 'q999'] = np.quantile(x,0.999)\n",
        "    X_tr.loc[segment, 'q001'] = np.quantile(x,0.001)\n",
        "    X_tr.loc[segment, 'ave10'] = stats.trim_mean(x, 0.1)\n",
        "\n",
        "    for windows in [10, 100, 1000]:\n",
        "        x_roll_std = x.rolling(windows).std().dropna().values\n",
        "        x_roll_mean = x.rolling(windows).mean().dropna().values\n",
        "        \n",
        "        X_tr.loc[segment, 'ave_roll_std_' + str(windows)] = x_roll_std.mean()\n",
        "        X_tr.loc[segment, 'std_roll_std_' + str(windows)] = x_roll_std.std()\n",
        "        X_tr.loc[segment, 'max_roll_std_' + str(windows)] = x_roll_std.max()\n",
        "        X_tr.loc[segment, 'min_roll_std_' + str(windows)] = x_roll_std.min()\n",
        "        X_tr.loc[segment, 'q01_roll_std_' + str(windows)] = np.quantile(x_roll_std, 0.01)\n",
        "        X_tr.loc[segment, 'q05_roll_std_' + str(windows)] = np.quantile(x_roll_std, 0.05)\n",
        "        X_tr.loc[segment, 'q95_roll_std_' + str(windows)] = np.quantile(x_roll_std, 0.95)\n",
        "        X_tr.loc[segment, 'q99_roll_std_' + str(windows)] = np.quantile(x_roll_std, 0.99)\n",
        "        X_tr.loc[segment, 'av_change_abs_roll_std_' + str(windows)] = np.mean(np.diff(x_roll_std))\n",
        "        X_tr.loc[segment, 'av_change_rate_roll_std_' + str(windows)] = np.mean(np.nonzero((np.diff(x_roll_std) / x_roll_std[:-1]))[0])\n",
        "        X_tr.loc[segment, 'abs_max_roll_std_' + str(windows)] = np.abs(x_roll_std).max()\n",
        "        \n",
        "        X_tr.loc[segment, 'ave_roll_mean_' + str(windows)] = x_roll_mean.mean()\n",
        "        X_tr.loc[segment, 'std_roll_mean_' + str(windows)] = x_roll_mean.std()\n",
        "        X_tr.loc[segment, 'max_roll_mean_' + str(windows)] = x_roll_mean.max()\n",
        "        X_tr.loc[segment, 'min_roll_mean_' + str(windows)] = x_roll_mean.min()\n",
        "        X_tr.loc[segment, 'q01_roll_mean_' + str(windows)] = np.quantile(x_roll_mean, 0.01)\n",
        "        X_tr.loc[segment, 'q05_roll_mean_' + str(windows)] = np.quantile(x_roll_mean, 0.05)\n",
        "        X_tr.loc[segment, 'q95_roll_mean_' + str(windows)] = np.quantile(x_roll_mean, 0.95)\n",
        "        X_tr.loc[segment, 'q99_roll_mean_' + str(windows)] = np.quantile(x_roll_mean, 0.99)\n",
        "        X_tr.loc[segment, 'av_change_abs_roll_mean_' + str(windows)] = np.mean(np.diff(x_roll_mean))\n",
        "        X_tr.loc[segment, 'av_change_rate_roll_mean_' + str(windows)] = np.mean(np.nonzero((np.diff(x_roll_mean) / x_roll_mean[:-1]))[0])\n",
        "        X_tr.loc[segment, 'abs_max_roll_mean_' + str(windows)] = np.abs(x_roll_mean).max()\n"
      ],
      "metadata": {
        "id": "ywg76lQ4PPvz",
        "colab": {
          "base_uri": "https://localhost:8080/",
          "height": 49,
          "referenced_widgets": [
            "b9661be9e17e4464ba023aaad4dae50a",
            "397b909301b44bd9bca58906fce4b10b",
            "84c4561fb7a9423e83fb24413d49a7fd",
            "c03ecc0b84104b38b776b9ee2aae9776",
            "726a28ebdb29422c8a6db8de8a5aaa83",
            "0a2121a0705f4515a420bc65425322d9",
            "ed8c27fe00a047fb949f84c2e5775403",
            "fe4c3a88065b437793febeb0d3cfe4e2",
            "fbc9d344b2e6481ca138b9ea33151ea8",
            "244ffde519df49948be7297ebdbd9167",
            "a3a163312d0c48629e6d616ecef10d47"
          ]
        },
        "outputId": "83837730-2c92-404d-accf-a5ce44dae867"
      },
      "execution_count": null,
      "outputs": [
        {
          "output_type": "display_data",
          "data": {
            "application/vnd.jupyter.widget-view+json": {
              "model_id": "b9661be9e17e4464ba023aaad4dae50a",
              "version_minor": 0,
              "version_major": 2
            },
            "text/plain": [
              "  0%|          | 0/4194 [00:00<?, ?it/s]"
            ]
          },
          "metadata": {}
        }
      ]
    },
    {
      "cell_type": "code",
      "source": [
        "X_tr.shape"
      ],
      "metadata": {
        "id": "9_QftvPpPP1r"
      },
      "execution_count": null,
      "outputs": []
    },
    {
      "cell_type": "code",
      "source": [
        "X_tr.head()"
      ],
      "metadata": {
        "id": "5EGFCjNFQhi1"
      },
      "execution_count": null,
      "outputs": []
    },
    {
      "cell_type": "code",
      "source": [
        "np.abs(X_tr.corrwith(y_tr['time_to_failure'])).sort_values(ascending=False).head(24)"
      ],
      "metadata": {
        "id": "TFXdbekwxAc8"
      },
      "execution_count": null,
      "outputs": []
    },
    {
      "cell_type": "code",
      "source": [
        "means_dict = {}\n",
        "for col in X_tr.columns:\n",
        "    if X_tr[col].isnull().any():\n",
        "        mean_value = X_tr.loc[X_tr[col] != -np.inf, col].mean()\n",
        "        X_tr.loc[X_tr[col] == -np.inf, col] = mean_value\n",
        "        X_tr[col] = X_tr[col].fillna(mean_value)\n",
        "        means_dict[col] = mean_value\n",
        "\n",
        "scaler = StandardScaler()\n",
        "scaler.fit(X_tr)\n",
        "X_train_scaled = pd.DataFrame(scaler.transform(X_tr), columns=X_tr.columns)"
      ],
      "metadata": {
        "id": "qmnYs-VhxLNK"
      },
      "execution_count": null,
      "outputs": []
    },
    {
      "cell_type": "code",
      "source": [
        "submission = pd.read_csv('/content/drive/MyDrive/LANL-Earthquake-Prediction/sample_submission.csv', index_col='seg_id')\n",
        "X_test = pd.DataFrame(columns=X_tr.columns, dtype=np.float64, index=submission.index)\n",
        "plt.figure(figsize=(22, 16))\n",
        "\n",
        "for i, seg_id in enumerate(tqdm_notebook(X_test.index)):\n",
        "    seg = pd.read_csv('/content/drive/MyDrive/LANL-Earthquake-Prediction/test/' + seg_id + '.csv')\n",
        "    \n",
        "    x = pd.Series(seg['acoustic_data'].values)\n",
        "    X_test.loc[seg_id, 'mean'] = x.mean()\n",
        "    X_test.loc[seg_id, 'std'] = x.std()\n",
        "    X_test.loc[seg_id, 'max'] = x.max()\n",
        "    X_test.loc[seg_id, 'min'] = x.min()\n",
        "        \n",
        "    X_test.loc[seg_id, 'mean_change_abs'] = np.mean(np.diff(x))\n",
        "    X_test.loc[seg_id, 'mean_change_rate'] = calc_change_rate(x)\n",
        "    X_test.loc[seg_id, 'abs_max'] = np.abs(x).max()\n",
        "    X_test.loc[seg_id, 'abs_min'] = np.abs(x).min()\n",
        "    \n",
        "    X_test.loc[seg_id, 'std_first_50000'] = x[:50000].std()\n",
        "    X_test.loc[seg_id, 'std_last_50000'] = x[-50000:].std()\n",
        "    X_test.loc[seg_id, 'std_first_10000'] = x[:10000].std()\n",
        "    X_test.loc[seg_id, 'std_last_10000'] = x[-10000:].std()\n",
        "    \n",
        "    X_test.loc[seg_id, 'avg_first_50000'] = x[:50000].mean()\n",
        "    X_test.loc[seg_id, 'avg_last_50000'] = x[-50000:].mean()\n",
        "    X_test.loc[seg_id, 'avg_first_10000'] = x[:10000].mean()\n",
        "    X_test.loc[seg_id, 'avg_last_10000'] = x[-10000:].mean()\n",
        "    \n",
        "    X_test.loc[seg_id, 'min_first_50000'] = x[:50000].min()\n",
        "    X_test.loc[seg_id, 'min_last_50000'] = x[-50000:].min()\n",
        "    X_test.loc[seg_id, 'min_first_10000'] = x[:10000].min()\n",
        "    X_test.loc[seg_id, 'min_last_10000'] = x[-10000:].min()\n",
        "    \n",
        "    X_test.loc[seg_id, 'max_first_50000'] = x[:50000].max()\n",
        "    X_test.loc[seg_id, 'max_last_50000'] = x[-50000:].max()\n",
        "    X_test.loc[seg_id, 'max_first_10000'] = x[:10000].max()\n",
        "    X_test.loc[seg_id, 'max_last_10000'] = x[-10000:].max()\n",
        "    \n",
        "    X_test.loc[seg_id, 'max_to_min'] = x.max() / np.abs(x.min())\n",
        "    X_test.loc[seg_id, 'max_to_min_diff'] = x.max() - np.abs(x.min())\n",
        "    X_test.loc[seg_id, 'count_big'] = len(x[np.abs(x) > 500])\n",
        "    X_test.loc[seg_id, 'sum'] = x.sum()\n",
        "    \n",
        "    X_test.loc[seg_id, 'mean_change_rate_first_50000'] = calc_change_rate(x[:50000])\n",
        "    X_test.loc[seg_id, 'mean_change_rate_last_50000'] = calc_change_rate(x[-50000:])\n",
        "    X_test.loc[seg_id, 'mean_change_rate_first_10000'] = calc_change_rate(x[:10000])\n",
        "    X_test.loc[seg_id, 'mean_change_rate_last_10000'] = calc_change_rate(x[-10000:])\n",
        "    \n",
        "    X_test.loc[seg_id, 'q95'] = np.quantile(x,0.95)\n",
        "    X_test.loc[seg_id, 'q99'] = np.quantile(x,0.99)\n",
        "    X_test.loc[seg_id, 'q05'] = np.quantile(x,0.05)\n",
        "    X_test.loc[seg_id, 'q01'] = np.quantile(x,0.01)\n",
        "    \n",
        "    X_test.loc[seg_id, 'abs_q95'] = np.quantile(np.abs(x), 0.95)\n",
        "    X_test.loc[seg_id, 'abs_q99'] = np.quantile(np.abs(x), 0.99)\n",
        "    X_test.loc[seg_id, 'abs_q05'] = np.quantile(np.abs(x), 0.05)\n",
        "    X_test.loc[seg_id, 'abs_q01'] = np.quantile(np.abs(x), 0.01)\n",
        "    \n",
        "    X_test.loc[seg_id, 'trend'] = add_trend_feature(x)\n",
        "    X_test.loc[seg_id, 'abs_trend'] = add_trend_feature(x, abs_values=True)\n",
        "    X_test.loc[seg_id, 'abs_mean'] = np.abs(x).mean()\n",
        "    X_test.loc[seg_id, 'abs_std'] = np.abs(x).std()\n",
        "    \n",
        "    X_test.loc[seg_id, 'mad'] = x.mad()\n",
        "    X_test.loc[seg_id, 'kurt'] = x.kurtosis()\n",
        "    X_test.loc[seg_id, 'skew'] = x.skew()\n",
        "    X_test.loc[seg_id, 'med'] = x.median()\n",
        "    \n",
        "    X_test.loc[seg_id, 'Hilbert_mean'] = np.abs(hilbert(x)).mean()\n",
        "    X_test.loc[seg_id, 'Hann_window_mean'] = (convolve(x, hann(150), mode='same') / sum(hann(150))).mean()\n",
        "    X_test.loc[seg_id, 'classic_sta_lta1_mean'] = classic_sta_lta(x, 500, 10000).mean()\n",
        "    X_test.loc[seg_id, 'classic_sta_lta2_mean'] = classic_sta_lta(x, 5000, 100000).mean()\n",
        "    X_test.loc[seg_id, 'classic_sta_lta3_mean'] = classic_sta_lta(x, 3333, 6666).mean()\n",
        "    X_test.loc[seg_id, 'classic_sta_lta4_mean'] = classic_sta_lta(x, 10000, 25000).mean()\n",
        "    X_test.loc[seg_id, 'classic_sta_lta5_mean'] = classic_sta_lta(x, 50, 1000).mean()\n",
        "    X_test.loc[seg_id, 'classic_sta_lta6_mean'] = classic_sta_lta(x, 100, 5000).mean()\n",
        "    X_test.loc[seg_id, 'classic_sta_lta7_mean'] = classic_sta_lta(x, 333, 666).mean()\n",
        "    X_test.loc[seg_id, 'classic_sta_lta8_mean'] = classic_sta_lta(x, 4000, 10000).mean()\n",
        "    X_test.loc[seg_id, 'Moving_average_700_mean'] = x.rolling(window=700).mean().mean(skipna=True)\n",
        "    ewma = pd.Series.ewm\n",
        "    X_test.loc[seg_id, 'exp_Moving_average_300_mean'] = (ewma(x, span=300).mean()).mean(skipna=True)\n",
        "    X_test.loc[seg_id, 'exp_Moving_average_3000_mean'] = ewma(x, span=3000).mean().mean(skipna=True)\n",
        "    X_test.loc[seg_id, 'exp_Moving_average_30000_mean'] = ewma(x, span=30000).mean().mean(skipna=True)\n",
        "    no_of_std = 3\n",
        "    X_test.loc[seg_id, 'MA_700MA_std_mean'] = x.rolling(window=700).std().mean()\n",
        "    X_test.loc[seg_id,'MA_700MA_BB_high_mean'] = (X_test.loc[seg_id, 'Moving_average_700_mean'] + no_of_std * X_test.loc[seg_id, 'MA_700MA_std_mean']).mean()\n",
        "    X_test.loc[seg_id,'MA_700MA_BB_low_mean'] = (X_test.loc[seg_id, 'Moving_average_700_mean'] - no_of_std * X_test.loc[seg_id, 'MA_700MA_std_mean']).mean()\n",
        "    X_test.loc[seg_id, 'MA_400MA_std_mean'] = x.rolling(window=400).std().mean()\n",
        "    X_test.loc[seg_id,'MA_400MA_BB_high_mean'] = (X_test.loc[seg_id, 'Moving_average_700_mean'] + no_of_std * X_test.loc[seg_id, 'MA_400MA_std_mean']).mean()\n",
        "    X_test.loc[seg_id,'MA_400MA_BB_low_mean'] = (X_test.loc[seg_id, 'Moving_average_700_mean'] - no_of_std * X_test.loc[seg_id, 'MA_400MA_std_mean']).mean()\n",
        "    X_test.loc[seg_id, 'MA_1000MA_std_mean'] = x.rolling(window=1000).std().mean()\n",
        "    X_test.drop('Moving_average_700_mean', axis=1, inplace=True)\n",
        "    \n",
        "    X_test.loc[seg_id, 'iqr'] = np.subtract(*np.percentile(x, [75, 25]))\n",
        "    X_test.loc[seg_id, 'q999'] = np.quantile(x,0.999)\n",
        "    X_test.loc[seg_id, 'q001'] = np.quantile(x,0.001)\n",
        "    X_test.loc[seg_id, 'ave10'] = stats.trim_mean(x, 0.1)\n",
        "    \n",
        "    for windows in [10, 100, 1000]:\n",
        "        x_roll_std = x.rolling(windows).std().dropna().values\n",
        "        x_roll_mean = x.rolling(windows).mean().dropna().values\n",
        "        \n",
        "        X_test.loc[seg_id, 'ave_roll_std_' + str(windows)] = x_roll_std.mean()\n",
        "        X_test.loc[seg_id, 'std_roll_std_' + str(windows)] = x_roll_std.std()\n",
        "        X_test.loc[seg_id, 'max_roll_std_' + str(windows)] = x_roll_std.max()\n",
        "        X_test.loc[seg_id, 'min_roll_std_' + str(windows)] = x_roll_std.min()\n",
        "        X_test.loc[seg_id, 'q01_roll_std_' + str(windows)] = np.quantile(x_roll_std, 0.01)\n",
        "        X_test.loc[seg_id, 'q05_roll_std_' + str(windows)] = np.quantile(x_roll_std, 0.05)\n",
        "        X_test.loc[seg_id, 'q95_roll_std_' + str(windows)] = np.quantile(x_roll_std, 0.95)\n",
        "        X_test.loc[seg_id, 'q99_roll_std_' + str(windows)] = np.quantile(x_roll_std, 0.99)\n",
        "        X_test.loc[seg_id, 'av_change_abs_roll_std_' + str(windows)] = np.mean(np.diff(x_roll_std))\n",
        "        X_test.loc[seg_id, 'av_change_rate_roll_std_' + str(windows)] = np.mean(np.nonzero((np.diff(x_roll_std) / x_roll_std[:-1]))[0])\n",
        "        X_test.loc[seg_id, 'abs_max_roll_std_' + str(windows)] = np.abs(x_roll_std).max()\n",
        "        \n",
        "        X_test.loc[seg_id, 'ave_roll_mean_' + str(windows)] = x_roll_mean.mean()\n",
        "        X_test.loc[seg_id, 'std_roll_mean_' + str(windows)] = x_roll_mean.std()\n",
        "        X_test.loc[seg_id, 'max_roll_mean_' + str(windows)] = x_roll_mean.max()\n",
        "        X_test.loc[seg_id, 'min_roll_mean_' + str(windows)] = x_roll_mean.min()\n",
        "        X_test.loc[seg_id, 'q01_roll_mean_' + str(windows)] = np.quantile(x_roll_mean, 0.01)\n",
        "        X_test.loc[seg_id, 'q05_roll_mean_' + str(windows)] = np.quantile(x_roll_mean, 0.05)\n",
        "        X_test.loc[seg_id, 'q95_roll_mean_' + str(windows)] = np.quantile(x_roll_mean, 0.95)\n",
        "        X_test.loc[seg_id, 'q99_roll_mean_' + str(windows)] = np.quantile(x_roll_mean, 0.99)\n",
        "        X_test.loc[seg_id, 'av_change_abs_roll_mean_' + str(windows)] = np.mean(np.diff(x_roll_mean))\n",
        "        X_test.loc[seg_id, 'av_change_rate_roll_mean_' + str(windows)] = np.mean(np.nonzero((np.diff(x_roll_mean) / x_roll_mean[:-1]))[0])\n",
        "        X_test.loc[seg_id, 'abs_max_roll_mean_' + str(windows)] = np.abs(x_roll_mean).max()\n",
        "\n",
        "\n",
        "for col in X_test.columns:\n",
        "    if X_test[col].isnull().any():\n",
        "        X_test.loc[X_test[col] == -np.inf, col] = means_dict[col]\n",
        "        X_test[col] = X_test[col].fillna(means_dict[col])\n",
        "        \n",
        "X_test_scaled = pd.DataFrame(scaler.transform(X_test), columns=X_test.columns)"
      ],
      "metadata": {
        "id": "7S2TCG6NPQAL",
        "colab": {
          "base_uri": "https://localhost:8080/",
          "height": 66,
          "referenced_widgets": [
            "73644317b6774eb6aec8ef0f7b1c1802",
            "de1177f2b9cb41e6b0af38d5b909e978",
            "8bfb7c9e755d40cea06152dba1372e2a",
            "3ba139f1dc344c6386df557697ca2a30",
            "c7b86d041e9148a886312c3f473ad8c6",
            "01cd8b2c05f9401189559b3da075b75b",
            "06a132be4a484a5093fccf5ae180865e",
            "9daf0325dd2747bfb49392a91d305c68",
            "fe42e285e0404ba8aa0b545ba6567c74",
            "7896921e66c24041bcf219b32202ac45",
            "c96aab917dab411089b3df971b214188"
          ]
        },
        "outputId": "c9f7492e-4e4f-405a-e83f-e23e4e7afdf8"
      },
      "execution_count": null,
      "outputs": [
        {
          "output_type": "display_data",
          "data": {
            "application/vnd.jupyter.widget-view+json": {
              "model_id": "73644317b6774eb6aec8ef0f7b1c1802",
              "version_minor": 0,
              "version_major": 2
            },
            "text/plain": [
              "  0%|          | 0/2624 [00:00<?, ?it/s]"
            ]
          },
          "metadata": {}
        },
        {
          "output_type": "display_data",
          "data": {
            "text/plain": [
              "<Figure size 1584x1152 with 0 Axes>"
            ]
          },
          "metadata": {}
        }
      ]
    },
    {
      "cell_type": "code",
      "source": [
        "n_fold=5\n",
        "folds = KFold(n_splits=5, shuffle=True, random_state=11)\n",
        "def train_model(X=X_train_scaled, X_test=X_test_scaled, y=y_tr, params=None, folds=folds, model_type='lgb', plot_feature_importance=False, model=None):\n",
        "    oof = np.zeros(len(X))\n",
        "    prediction = np.zeros(len(X_test))\n",
        "    scores = []\n",
        "    feature_importance = pd.DataFrame()\n",
        "    for fold_n, (train_index, valid_index) in enumerate(folds.split(X)):\n",
        "        print('Fold', fold_n, 'started at', time.ctime())\n",
        "        X_train, X_valid = X.iloc[train_index], X.iloc[valid_index]\n",
        "        y_train, y_valid = y.iloc[train_index], y.iloc[valid_index]\n",
        "        \n",
        "        if model_type == 'lgb':\n",
        "            model = lgb.LGBMRegressor(**params, n_estimators = 20000, nthread = 4, n_jobs = -1)\n",
        "            model.fit(X_train, y_train, \n",
        "                    eval_set=[(X_train, y_train), (X_valid, y_valid)], eval_metric='mae',\n",
        "                    verbose=10000, early_stopping_rounds=200)\n",
        "            \n",
        "            y_pred_valid = model.predict(X_valid)\n",
        "            y_pred = model.predict(X_test, num_iteration=model.best_iteration_)\n",
        "            \n",
        "        if model_type == 'xgb':\n",
        "            train_data = xgb.DMatrix(data=X_train, label=y_train, feature_names=X_tr.columns)\n",
        "            valid_data = xgb.DMatrix(data=X_valid, label=y_valid, feature_names=X_tr.columns)\n",
        "\n",
        "            watchlist = [(train_data, 'train'), (valid_data, 'valid_data')]\n",
        "            model = xgb.train(dtrain=train_data, num_boost_round=20000, evals=watchlist, early_stopping_rounds=200, verbose_eval=500, params=params)\n",
        "            y_pred_valid = model.predict(xgb.DMatrix(X_valid, feature_names=X_tr.columns), ntree_limit=model.best_ntree_limit)\n",
        "            y_pred = model.predict(xgb.DMatrix(X_test, feature_names=X_tr.columns), ntree_limit=model.best_ntree_limit)\n",
        "            \n",
        "        if model_type == 'rcv':\n",
        "            model = RidgeCV(alphas=(0.01, 0.1, 1.0, 10.0, 100.0), scoring='neg_mean_absolute_error', cv=3)\n",
        "            model.fit(X_train, y_train)\n",
        "            print(model.alpha_)\n",
        "\n",
        "            y_pred_valid = model.predict(X_valid).reshape(-1,)\n",
        "            score = mean_absolute_error(y_valid, y_pred_valid)\n",
        "            print(f'Fold {fold_n}. MAE: {score:.4f}.')\n",
        "            print('')\n",
        "            \n",
        "            y_pred = model.predict(X_test).reshape(-1,)\n",
        "        \n",
        "        if model_type == 'sklearn':\n",
        "            model = model\n",
        "            model.fit(X_train, y_train)\n",
        "            \n",
        "            y_pred_valid = model.predict(X_valid).reshape(-1,)\n",
        "            score = mean_absolute_error(y_valid, y_pred_valid)\n",
        "            print(f'Fold {fold_n}. MAE: {score:.4f}.')\n",
        "            print('')\n",
        "            \n",
        "            y_pred = model.predict(X_test).reshape(-1,)\n",
        "        \n",
        "        if model_type == 'cat':\n",
        "            model = CatBoostRegressor(iterations=20000,  eval_metric='MAE', **params)\n",
        "            model.fit(X_train, y_train, eval_set=(X_valid, y_valid), cat_features=[], use_best_model=True, verbose=False)\n",
        "\n",
        "            y_pred_valid = model.predict(X_valid)\n",
        "            y_pred = model.predict(X_test)\n",
        "        \n",
        "        oof[valid_index] = y_pred_valid.reshape(-1,)\n",
        "        scores.append(mean_absolute_error(y_valid, y_pred_valid))\n",
        "\n",
        "        prediction += y_pred    \n",
        "        \n",
        "        if model_type == 'lgb':\n",
        "            # feature importance\n",
        "            fold_importance = pd.DataFrame()\n",
        "            fold_importance[\"feature\"] = X.columns\n",
        "            fold_importance[\"importance\"] = model.feature_importances_\n",
        "            fold_importance[\"fold\"] = fold_n + 1\n",
        "            feature_importance = pd.concat([feature_importance, fold_importance], axis=0)\n",
        "\n",
        "    prediction /= n_fold\n",
        "    \n",
        "    print('CV mean score: {0:.4f}, std: {1:.4f}.'.format(np.mean(scores), np.std(scores)))\n",
        "    \n",
        "    if model_type == 'lgb':\n",
        "        feature_importance[\"importance\"] /= n_fold\n",
        "        if plot_feature_importance:\n",
        "            cols = feature_importance[[\"feature\", \"importance\"]].groupby(\"feature\").mean().sort_values(\n",
        "                by=\"importance\", ascending=False)[:50].index\n",
        "\n",
        "            best_features = feature_importance.loc[feature_importance.feature.isin(cols)]\n",
        "\n",
        "            plt.figure(figsize=(16, 12));\n",
        "            sns.barplot(x=\"importance\", y=\"feature\", data=best_features.sort_values(by=\"importance\", ascending=False));\n",
        "            plt.title('LGB Features (avg over folds)');\n",
        "        \n",
        "            return oof, prediction, feature_importance\n",
        "        return oof, prediction\n",
        "    \n",
        "    else:\n",
        "        return oof, prediction"
      ],
      "metadata": {
        "id": "iBxHZzgsQI8C"
      },
      "execution_count": null,
      "outputs": []
    },
    {
      "cell_type": "code",
      "source": [
        "params = {'num_leaves': 128, 'min_data_in_leaf': 79, 'objective': 'huber', 'max_depth': -1, 'learning_rate': 0.01, \"boosting\": \"gbdt\", \"bagging_freq\": 5, \"bagging_fraction\": 0.8126672064208567, \"bagging_seed\": 11,\"metric\": 'mae', \"verbosity\": -1, 'reg_alpha': 0.1302650970728192, 'reg_lambda': 0.3603427518866501}"
      ],
      "metadata": {
        "id": "DWmVLd12QJCJ"
      },
      "execution_count": null,
      "outputs": []
    },
    {
      "cell_type": "code",
      "source": [
        "oof_lgb, prediction_lgb, feature_importance = train_model(X=X_train_scaled, X_test=X_test_scaled, params=params, model_type='lgb', plot_feature_importance=True)"
      ],
      "metadata": {
        "colab": {
          "base_uri": "https://localhost:8080/",
          "height": 1000
        },
        "id": "LQMum-sLyGtq",
        "outputId": "6f6a4d15-8f24-4533-91e8-1efab7774653"
      },
      "execution_count": null,
      "outputs": [
        {
          "output_type": "stream",
          "name": "stdout",
          "text": [
            "Fold 0 started at Thu Dec 23 10:26:23 2021\n",
            "Training until validation scores don't improve for 200 rounds.\n",
            "Early stopping, best iteration is:\n",
            "[1238]\ttraining's l1: 1.55414\tvalid_1's l1: 2.0654\n",
            "Fold 1 started at Thu Dec 23 10:26:44 2021\n",
            "Training until validation scores don't improve for 200 rounds.\n",
            "Early stopping, best iteration is:\n",
            "[1369]\ttraining's l1: 1.5224\tvalid_1's l1: 2.00771\n",
            "Fold 2 started at Thu Dec 23 10:27:02 2021\n",
            "Training until validation scores don't improve for 200 rounds.\n",
            "Early stopping, best iteration is:\n",
            "[1205]\ttraining's l1: 1.5619\tvalid_1's l1: 2.11452\n",
            "Fold 3 started at Thu Dec 23 10:27:19 2021\n",
            "Training until validation scores don't improve for 200 rounds.\n",
            "Early stopping, best iteration is:\n",
            "[1015]\ttraining's l1: 1.68232\tvalid_1's l1: 1.89919\n",
            "Fold 4 started at Thu Dec 23 10:27:32 2021\n",
            "Training until validation scores don't improve for 200 rounds.\n",
            "Early stopping, best iteration is:\n",
            "[1055]\ttraining's l1: 1.6342\tvalid_1's l1: 2.05675\n",
            "CV mean score: 2.0287, std: 0.0731.\n"
          ]
        },
        {
          "output_type": "display_data",
          "data": {
            "image/png": "[encoded data removed]",
            "text/plain": [
              "<Figure size 1152x864 with 1 Axes>"
            ]
          },
          "metadata": {
            "needs_background": "light"
          }
        }
      ]
    },
    {
      "cell_type": "code",
      "source": [
        "xgb_params = {'eta': 0.03, 'max_depth': 9, 'subsample': 0.85, 'objective': 'reg:linear', 'eval_metric': 'mae', 'silent': True, 'nthread': 4}\n",
        "oof_xgb, prediction_xgb = train_model(X=X_train_scaled, X_test=X_test_scaled, params=xgb_params, model_type='xgb')"
      ],
      "metadata": {
        "colab": {
          "base_uri": "https://localhost:8080/"
        },
        "id": "lFEJf-uvQJIJ",
        "outputId": "5d902aef-ee73-45c0-f1c6-b56e1f707f0b"
      },
      "execution_count": null,
      "outputs": [
        {
          "output_type": "stream",
          "name": "stdout",
          "text": [
            "Fold 0 started at Thu Dec 23 10:32:31 2021\n",
            "[0]\ttrain-mae:5.03527\tvalid_data-mae:5.1775\n",
            "Multiple eval metrics have been passed: 'valid_data-mae' will be used for early stopping.\n",
            "\n",
            "Will train until valid_data-mae hasn't improved in 200 rounds.\n",
            "Stopping. Best iteration:\n",
            "[103]\ttrain-mae:0.795087\tvalid_data-mae:2.15472\n",
            "\n",
            "Fold 1 started at Thu Dec 23 10:33:06 2021\n",
            "[0]\ttrain-mae:5.06082\tvalid_data-mae:5.06821\n",
            "Multiple eval metrics have been passed: 'valid_data-mae' will be used for early stopping.\n",
            "\n",
            "Will train until valid_data-mae hasn't improved in 200 rounds.\n",
            "Stopping. Best iteration:\n",
            "[97]\ttrain-mae:0.858213\tvalid_data-mae:2.05776\n",
            "\n",
            "Fold 2 started at Thu Dec 23 10:33:29 2021\n",
            "[0]\ttrain-mae:5.05491\tvalid_data-mae:5.09572\n",
            "Multiple eval metrics have been passed: 'valid_data-mae' will be used for early stopping.\n",
            "\n",
            "Will train until valid_data-mae hasn't improved in 200 rounds.\n",
            "Stopping. Best iteration:\n",
            "[119]\ttrain-mae:0.702313\tvalid_data-mae:2.12553\n",
            "\n",
            "Fold 3 started at Thu Dec 23 10:33:50 2021\n",
            "[0]\ttrain-mae:5.10271\tvalid_data-mae:4.90205\n",
            "Multiple eval metrics have been passed: 'valid_data-mae' will be used for early stopping.\n",
            "\n",
            "Will train until valid_data-mae hasn't improved in 200 rounds.\n",
            "Stopping. Best iteration:\n",
            "[125]\ttrain-mae:0.716064\tvalid_data-mae:1.98422\n",
            "\n",
            "Fold 4 started at Thu Dec 23 10:34:11 2021\n",
            "[0]\ttrain-mae:5.05687\tvalid_data-mae:5.08548\n",
            "Multiple eval metrics have been passed: 'valid_data-mae' will be used for early stopping.\n",
            "\n",
            "Will train until valid_data-mae hasn't improved in 200 rounds.\n",
            "Stopping. Best iteration:\n",
            "[85]\ttrain-mae:0.9388\tvalid_data-mae:2.10885\n",
            "\n",
            "CV mean score: 2.0862, std: 0.0599.\n"
          ]
        }
      ]
    },
    {
      "cell_type": "code",
      "source": [
        "model = NuSVR(gamma='scale', nu=0.9, C=10.0, tol=0.01)\n",
        "oof_svr, prediction_svr = train_model(X=X_train_scaled, X_test=X_test_scaled, params=None, model_type='sklearn', model=model)"
      ],
      "metadata": {
        "colab": {
          "base_uri": "https://localhost:8080/"
        },
        "id": "Lu7qglnIQJPM",
        "outputId": "09534574-d2f5-48b1-af81-5715fe4a856f"
      },
      "execution_count": null,
      "outputs": [
        {
          "output_type": "stream",
          "name": "stdout",
          "text": [
            "Fold 0 started at Thu Dec 23 10:38:49 2021\n",
            "Fold 0. MAE: 2.1098.\n",
            "\n",
            "Fold 1 started at Thu Dec 23 10:38:53 2021\n",
            "Fold 1. MAE: 2.0933.\n",
            "\n",
            "Fold 2 started at Thu Dec 23 10:38:57 2021\n",
            "Fold 2. MAE: 2.1618.\n",
            "\n",
            "Fold 3 started at Thu Dec 23 10:39:04 2021\n",
            "Fold 3. MAE: 1.9385.\n",
            "\n",
            "Fold 4 started at Thu Dec 23 10:39:14 2021\n",
            "Fold 4. MAE: 2.1101.\n",
            "\n",
            "CV mean score: 2.0827, std: 0.0757.\n"
          ]
        }
      ]
    },
    {
      "cell_type": "code",
      "source": [
        "model = NuSVR(gamma='scale', nu=0.7, tol=0.01, C=1.0)\n",
        "oof_svr1, prediction_svr1 = train_model(X=X_train_scaled, X_test=X_test_scaled, params=None, model_type='sklearn', model=model)"
      ],
      "metadata": {
        "colab": {
          "base_uri": "https://localhost:8080/"
        },
        "id": "paRia7eYyp7S",
        "outputId": "b451b97c-a329-4627-b42e-b04dde98a8ef"
      },
      "execution_count": null,
      "outputs": [
        {
          "output_type": "stream",
          "name": "stdout",
          "text": [
            "Fold 0 started at Thu Dec 23 10:41:26 2021\n",
            "Fold 0. MAE: 2.0773.\n",
            "\n",
            "Fold 1 started at Thu Dec 23 10:41:28 2021\n",
            "Fold 1. MAE: 2.0502.\n",
            "\n",
            "Fold 2 started at Thu Dec 23 10:41:32 2021\n",
            "Fold 2. MAE: 2.1337.\n",
            "\n",
            "Fold 3 started at Thu Dec 23 10:41:39 2021\n",
            "Fold 3. MAE: 1.9047.\n",
            "\n",
            "Fold 4 started at Thu Dec 23 10:41:45 2021\n",
            "Fold 4. MAE: 2.0764.\n",
            "\n",
            "CV mean score: 2.0484, std: 0.0769.\n"
          ]
        }
      ]
    },
    {
      "cell_type": "code",
      "source": [
        "params = {'loss_function':'MAE'}\n",
        "oof_cat, prediction_cat = train_model(X=X_train_scaled, X_test=X_test_scaled, params=params, model_type='cat')"
      ],
      "metadata": {
        "id": "wbiWwhh9yu1B",
        "colab": {
          "base_uri": "https://localhost:8080/"
        },
        "outputId": "27ec504c-4609-4493-d102-e6a1fdbd591e"
      },
      "execution_count": null,
      "outputs": [
        {
          "output_type": "stream",
          "name": "stdout",
          "text": [
            "Fold 0 started at Thu Dec 23 18:50:24 2021\n",
            "Fold 1 started at Thu Dec 23 19:01:47 2021\n",
            "Fold 2 started at Thu Dec 23 19:13:03 2021\n",
            "Fold 3 started at Thu Dec 23 19:24:21 2021\n",
            "Fold 4 started at Thu Dec 23 19:35:44 2021\n",
            "CV mean score: 2.0297, std: 0.0753.\n"
          ]
        }
      ]
    },
    {
      "cell_type": "code",
      "source": [
        "model = KernelRidge(kernel='rbf', alpha=0.1, gamma=0.01)\n",
        "oof_r, prediction_r = train_model(X=X_train_scaled, X_test=X_test_scaled, params=None, model_type='sklearn', model=model)"
      ],
      "metadata": {
        "colab": {
          "base_uri": "https://localhost:8080/"
        },
        "id": "GFfEAGLCywaB",
        "outputId": "15c49643-b3c2-42b3-b0e9-8a6a504dbb44"
      },
      "execution_count": null,
      "outputs": [
        {
          "output_type": "stream",
          "name": "stdout",
          "text": [
            "Fold 0 started at Thu Dec 23 19:50:11 2021\n",
            "Fold 0. MAE: 2.1826.\n",
            "\n",
            "Fold 1 started at Thu Dec 23 19:50:13 2021\n",
            "Fold 1. MAE: 2.1693.\n",
            "\n",
            "Fold 2 started at Thu Dec 23 19:50:15 2021\n",
            "Fold 2. MAE: 2.2263.\n",
            "\n",
            "Fold 3 started at Thu Dec 23 19:50:19 2021\n",
            "Fold 3. MAE: 2.0002.\n",
            "\n",
            "Fold 4 started at Thu Dec 23 19:50:23 2021\n",
            "Fold 4. MAE: 2.2304.\n",
            "\n",
            "CV mean score: 2.1618, std: 0.0842.\n"
          ]
        }
      ]
    },
    {
      "cell_type": "code",
      "source": [
        "plt.figure(figsize=(16, 8))\n",
        "plt.plot(y_tr, color='g', label='y_train')\n",
        "#plt.plot(oof_lgb, color='b', label='lgb')\n",
        "#plt.plot(oof_xgb, color='teal', label='xgb')\n",
        "#plt.plot(oof_svr, color='red', label='svr1')\n",
        "#plt.plot(oof_svr1, color='red', label='svr2')\n",
        "#plt.plot(oof_cat, color='black', label='catboost')\n",
        "plt.plot(oof_r, color='purple', label='kernelridge')\n",
        "#plt.plot((oof_lgb + oof_xgb + oof_svr) / 3, color='gold', label='blend')\n",
        "plt.legend();\n",
        "plt.title('Predictions vs actual');"
      ],
      "metadata": {
        "id": "MSaoCD-tR8f6",
        "colab": {
          "base_uri": "https://localhost:8080/",
          "height": 499
        },
        "outputId": "6079f1a8-5cc9-45e7-8bba-7c9ac22bce2b"
      },
      "execution_count": null,
      "outputs": [
        {
          "output_type": "display_data",
          "data": {
            "image/png": "[encoded data removed]",
            "text/plain": [
              "<Figure size 1152x576 with 1 Axes>"
            ]
          },
          "metadata": {
            "needs_background": "light"
          }
        }
      ]
    },
    {
      "cell_type": "code",
      "source": [
        "submission['time_to_failure'] = (prediction_lgb + prediction_xgb + prediction_svr + prediction_svr1 + prediction_cat + prediction_r) / 6\n",
        "print(submission.head())\n",
        "submission.to_csv(\"submission(2_copy).csv\")"
      ],
      "metadata": {
        "colab": {
          "base_uri": "https://localhost:8080/"
        },
        "id": "TczYQqE2SGPC",
        "outputId": "73074109-a91e-46a5-b71c-85257b72c59e"
      },
      "execution_count": null,
      "outputs": [
        {
          "output_type": "stream",
          "name": "stdout",
          "text": [
            "              time_to_failure\n",
            "seg_id                       \n",
            "seg_00030f  2.829188468660000\n",
            "seg_0012b5  5.839719226326949\n",
            "seg_00184e  5.320199995881265\n",
            "seg_003339  8.435913795995861\n",
            "seg_0042cc  6.976742274286148\n"
          ]
        }
      ]
    },
    {
      "cell_type": "code",
      "source": [
        "submission['time_to_failure'] = prediction_r\n",
        "print(submission.head())\n",
        "submission.to_csv(\"submission(kr).csv\")"
      ],
      "metadata": {
        "id": "63IlN6vvmm3f",
        "colab": {
          "base_uri": "https://localhost:8080/"
        },
        "outputId": "6cae54e2-7332-4216-f925-d112b04c5d3e"
      },
      "execution_count": null,
      "outputs": [
        {
          "output_type": "stream",
          "name": "stdout",
          "text": [
            "              time_to_failure\n",
            "seg_id                       \n",
            "seg_00030f  3.044240630223237\n",
            "seg_0012b5  6.792285758510110\n",
            "seg_00184e  5.675761207786402\n",
            "seg_003339  9.192122076557826\n",
            "seg_0042cc  7.824528874963699\n"
          ]
        }
      ]
    }
  ]
}